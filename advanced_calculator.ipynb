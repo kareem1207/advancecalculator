{
 "cells": [
  {
   "cell_type": "code",
   "execution_count": 2,
   "id": "0b57eb54-6c57-4ab6-9e04-a03336dd9478",
   "metadata": {},
   "outputs": [
    {
     "name": "stdout",
     "output_type": "stream",
     "text": [
      "This is how u can access the special functions\n",
      "1.To use power use this symbol '^'\n",
      "2.To use trignometry function keep the angle (only in degrees) in brackets( '(' and ')' brackets shld be use\n",
      "3.To use log,ln,e functions keep the values in brackets ( '(' and ')'  and '^' this should be used for power only should be used)\n",
      "4.You can write in any case\n"
     ]
    },
    {
     "name": "stdin",
     "output_type": "stream",
     "text": [
      " sin(8)+cos(270)+8\n"
     ]
    },
    {
     "name": "stdout",
     "output_type": "stream",
     "text": [
      "8.0\n"
     ]
    }
   ],
   "source": [
    "#main \n",
    "import math as m \n",
    "from math import pi \n",
    "def calculator(exp):\n",
    "    if 'pi' in exp:\n",
    "        exp=exp.replace('pi',str(pi))\n",
    "    if '!' in exp: \n",
    "        fact_pos=exp.find('!')\n",
    "        dummy=exp[fact_pos-1]+exp[fact_pos]\n",
    "        f=exp[fact_pos-1]\n",
    "        factorial=m.factorial(int(f))\n",
    "        exp=exp.replace(dummy , str(factorial))\n",
    "        del dummy,factorial,f,fact_pos\n",
    "    if 'e' in exp: \n",
    "        e_pos=exp.find('e')\n",
    "        dummy_exp=exp\n",
    "        dummy_exp=dummy_exp[e_pos:]\n",
    "        value,e,stop=\"\",\"e^(\",1\n",
    "        e_value=0\n",
    "        for i in range(len(dummy_exp)):\n",
    "            s=i\n",
    "            if dummy_exp[i]=='(':\n",
    "                while dummy_exp[s]!=')':\n",
    "                    s+=1\n",
    "                    e+=dummy_exp[s]\n",
    "                    value+=dummy_exp[s]\n",
    "                else :\n",
    "                    stop=0\n",
    "            if stop==0:\n",
    "                break\n",
    "        value=value[:len(value)-1]\n",
    "        e_value=m.exp(int(value))\n",
    "        exp=exp.replace(e,str(e_value))\n",
    "        del dummy_exp,e_value,e_pos,value,e,stop\n",
    "    if '^' in exp : \n",
    "        exp=exp.replace('^','**')\n",
    "    if 'log'in exp: \n",
    "        log_pos=exp.find('log')\n",
    "        dummy_exp=exp\n",
    "        dummy_exp=dummy_exp[log_pos:]\n",
    "        value,log,stop=\"\",\"log(\",1\n",
    "        for i in range(len(dummy_exp)):\n",
    "            s=i\n",
    "            if dummy_exp[i]=='(':\n",
    "                while dummy_exp[s]!=')':\n",
    "                    s+=1\n",
    "                    log+=dummy_exp[s]\n",
    "                    value+=dummy_exp[s]\n",
    "                else :\n",
    "                    stop=0\n",
    "            if stop==0:\n",
    "                break\n",
    "        l=value[:len(value)-1]\n",
    "        try:\n",
    "            log_value=m.log10(int(l))\n",
    "            exp=exp.replace(log , str(log_value))  \n",
    "        except :\n",
    "            print(\"0 and negatives have no log \")\n",
    "        del dummy_exp,log_value,log_pos,l ,value ,stop\n",
    "    if 'ln'in exp:\n",
    "        ln_pos=exp.find('ln')\n",
    "        dummy_exp=exp\n",
    "        dummy_exp=dummy_exp[ln_pos:]\n",
    "        value,ln,stop=\"\",\"ln(\",1\n",
    "        ln_value=0\n",
    "        for i in range(len(dummy_exp)):\n",
    "            s=i\n",
    "            if dummy_exp[i]=='(':\n",
    "                while dummy_exp[s]!=')':\n",
    "                    s+=1\n",
    "                    ln+=dummy_exp[s]\n",
    "                    value+=dummy_exp[s]\n",
    "                else :\n",
    "                    stop=0\n",
    "            if stop==0:\n",
    "                break\n",
    "        l=value[:len(value)-1]\n",
    "        try:\n",
    "            ln_value=m.log(int(l))\n",
    "            exp=exp.replace(ln , str(ln_value))  \n",
    "        except :\n",
    "            print(\"0 and negatives have no ln \")\n",
    "        del dummy_exp,ln_value,ln_pos,l ,value ,stop\n",
    "    if 'sin' in exp:\n",
    "        sin_pos=exp.find('sin')\n",
    "        dummy_exp=exp\n",
    "        dummy_exp=dummy_exp[sin_pos:]\n",
    "        value,sin=\"\",\"sin(\"\n",
    "        stop=1\n",
    "        for i in range(len(dummy_exp)):\n",
    "            s=i\n",
    "            if dummy_exp[i]=='(':\n",
    "                while dummy_exp[s]!=')':\n",
    "                    s+=1\n",
    "                    sin+=dummy_exp[s]\n",
    "                    value+=dummy_exp[s]\n",
    "                else :\n",
    "                    stop=0\n",
    "            if stop==0:\n",
    "                break\n",
    "        value=value[:len(value)-1]\n",
    "        sin_value=m.sin(m.radians(int(value)))\n",
    "        sin_value=round(sin_value)\n",
    "        exp=exp.replace(sin,str(sin_value))\n",
    "        del dummy_exp,sin,value,sin_pos,sin_value,stop\n",
    "    if 'cos' in exp:\n",
    "        cos_pos=exp.find('cos')\n",
    "        dummy_exp=exp\n",
    "        dummy_exp=dummy_exp[cos_pos:]\n",
    "        value,cos,stop=\"\",\"cos(\",1\n",
    "        for i in range(len(dummy_exp)):\n",
    "            s=i\n",
    "            if dummy_exp[i]=='(':\n",
    "                while dummy_exp[s]!=')':\n",
    "                    s+=1\n",
    "                    cos+=dummy_exp[s]\n",
    "                    value+=dummy_exp[s]\n",
    "                else :\n",
    "                    stop=0\n",
    "            if stop==0:\n",
    "                break\n",
    "        value=value[:len(value)-1]\n",
    "        cos_value=m.cos(m.radians(int(value)))\n",
    "        cos_value=round(cos_value,2)\n",
    "        exp=exp.replace(cos,str(cos_value))\n",
    "        del dummy_exp,cos,value,cos_value,cos_pos,stop\n",
    "    if 'tan' in exp:\n",
    "        tan_pos=exp.find('tan')\n",
    "        dummy_exp=exp\n",
    "        dummy_exp=dummy_exp[tan_pos:]\n",
    "        value,tan,stop=\"\",\"tan(\",1\n",
    "        for i in range(len(dummy_exp)):\n",
    "            s=i\n",
    "            if dummy_exp[i]=='(':\n",
    "                while dummy_exp[s]!=')':\n",
    "                    s+=1\n",
    "                    tan+=dummy_exp[s]\n",
    "                    value+=dummy_exp[s]\n",
    "                else :\n",
    "                    stop=0\n",
    "            if stop==0:\n",
    "                break\n",
    "        value=value[:len(value)-1]\n",
    "        tan_value=m.tan(m.radians(int(value)))\n",
    "        tan_value=round(tan_value,2)\n",
    "        exp=exp.replace(tan,str(tan_value))\n",
    "        del dummy_exp,tan,value,tan_value,tan_pos,stop\n",
    "    if 'tanh' in exp:\n",
    "        tanh_pos=exp.find('tanh')\n",
    "        dummy_exp=exp\n",
    "        dummy_exp=dummy_exp[tanh_pos:]\n",
    "        value,tanh,stop=\"\",\"tanh(\",1\n",
    "        for i in range(len(dummy_exp)):\n",
    "            s=i\n",
    "            if dummy_exp[i]=='(':\n",
    "                while dummy_exp[s]!=')':\n",
    "                    s+=1\n",
    "                    tanh+=dummy_exp[s]\n",
    "                    value+=dummy_exp[s]\n",
    "                else :\n",
    "                    stop=0\n",
    "            if stop==0:\n",
    "                break\n",
    "        value=value[:len(value)-1]\n",
    "        tanh_value=m.tanh(m.radians(int(value)))\n",
    "        tanh_value=round(tanh_value,2)\n",
    "        exp=exp.replace(tanh,str(tanh_value))\n",
    "        del dummy_exp,tanh,value,tanh_value,tanh_pos,stop\n",
    "    if 'cosh' in exp:\n",
    "        cosh_pos=exp.find('cosh')\n",
    "        dummy_exp=exp\n",
    "        dummy_exp=dummy_exp[cosh_pos:]\n",
    "        value,cosh,stop=\"\",\"cosh(\",1\n",
    "        for i in range(len(dummy_exp)):\n",
    "            s=i\n",
    "            if dummy_exp[i]=='(':\n",
    "                while dummy_exp[s]!=')':\n",
    "                    s+=1\n",
    "                    cosh+=dummy_exp[s]\n",
    "                    value+=dummy_exp[s]\n",
    "                else :\n",
    "                    stop=0\n",
    "            if stop==0:\n",
    "                break\n",
    "        value=value[:len(value)-1]\n",
    "        cosh_value=m.cosh(m.radians(int(value)))\n",
    "        cosh_value=round(cosh_value,2)\n",
    "        exp=exp.replace(cosh,str(cosh_value))\n",
    "        del dummy_exp,cosh,value,cosh_value,cosh_pos,stop\n",
    "    if 'sinh' in exp:\n",
    "        sinh_pos=exp.find('sinh')\n",
    "        dummy_exp=exp\n",
    "        dummy_exp=dummy_exp[sinh_pos:]\n",
    "        value,sinh,stop=\"\",\"sinh(\",1\n",
    "        for i in range(len(dummy_exp)):\n",
    "            s=i\n",
    "            if dummy_exp[i]=='(':\n",
    "                while dummy_exp[s]!=')':\n",
    "                    s+=1\n",
    "                    sinh+=dummy_exp[s]\n",
    "                    value+=dummy_exp[s]\n",
    "                else :\n",
    "                    stop=0\n",
    "            if stop==0:\n",
    "                break\n",
    "        value=value[:len(value)-1]\n",
    "        sinh_value=m.sinh(m.radians(int(value)))\n",
    "        sinh_value=round(sinh_value,2)\n",
    "        exp=exp.replace(sinh,str(sinh_value))\n",
    "        del dummy_exp,sinh,value,sinh_pos,sinh_value,stop\n",
    "    return exp\n",
    "if __name__=='__main__':\n",
    "    print(\"This is how u can access the special functions\\n1.To use power use this symbol '^'\")\n",
    "    print(\"2.To use trignometry function keep the angle (only in degrees) in brackets( '(' and ')' brackets shld be use\")\n",
    "    print(\"3.To use log,ln,e functions keep the values in brackets ( '(' and ')'  and '^' this should be used for power only should be used)\\n4.You can write in any case\")\n",
    "    exp=input()\n",
    "    solution=calculator(exp.lower())\n",
    "    try :\n",
    "        print(eval(solution))\n",
    "    except :\n",
    "        print(\"Invalid input \")"
   ]
  },
  {
   "cell_type": "code",
   "execution_count": null,
   "id": "1ee79f3f-8f69-448a-a6c5-bd80db4602cb",
   "metadata": {},
   "outputs": [],
   "source": [
    "#advanced addition \n",
    "exp=input()\n",
    "expl=exp.split('+')\n",
    "i,sum=0,0\n",
    "e=False\n",
    "try :\n",
    "    while i <=exp.index('+')+1 :\n",
    "        sum+=float(expl[i])\n",
    "        i+=1\n",
    "except IndexError :\n",
    "    print(sum)\n",
    "    e=True\n",
    "if not e:\n",
    "    print(sum)    "
   ]
  },
  {
   "cell_type": "code",
   "execution_count": null,
   "id": "036064bd-b325-4d9a-a29e-3eb1a6d1241a",
   "metadata": {},
   "outputs": [],
   "source": [
    "# advanced subtraction \n",
    "exp=input()\n",
    "expl=exp.split('-')\n",
    "i,sub=1,float(expl[0])\n",
    "e=False\n",
    "try :\n",
    "    while i <=exp.index('-')+1 :\n",
    "        sub-=float(expl[i])\n",
    "        i+=1\n",
    "except IndexError :\n",
    "    print(sub)\n",
    "    e=True\n",
    "if not e:\n",
    "    print(sub)    "
   ]
  },
  {
   "cell_type": "code",
   "execution_count": null,
   "id": "97a2bebc-da9a-48e7-a8b7-d9a8ad7ac1e3",
   "metadata": {},
   "outputs": [],
   "source": [
    "# advanced multiplication \n",
    "exp=input()\n",
    "expl=exp.split('*')\n",
    "i,mul=0,1\n",
    "e=False\n",
    "try :\n",
    "    while i <=exp.index('*')+1 :\n",
    "        mul*=float(expl[i])\n",
    "        i+=1\n",
    "except IndexError :\n",
    "    print(mul)\n",
    "    e=True\n",
    "if not e:\n",
    "    print(mul)    "
   ]
  },
  {
   "cell_type": "code",
   "execution_count": null,
   "id": "70c6474b-a513-4b6b-9e22-ab9155bc5573",
   "metadata": {},
   "outputs": [],
   "source": [
    "# advanced division  \n",
    "exp=input()\n",
    "expl=exp.split('/')\n",
    "i,div=1,float(expl[0])\n",
    "e=False\n",
    "try :\n",
    "    while i <=exp.index('/')+1 :\n",
    "        div/=float(expl[i])\n",
    "        i+=1\n",
    "except IndexError :\n",
    "    print(div)\n",
    "    e=True\n",
    "if not e:\n",
    "    print(div)    "
   ]
  },
  {
   "cell_type": "code",
   "execution_count": null,
   "id": "0c672aad-0645-4739-8d32-bf6ff5c78b9b",
   "metadata": {},
   "outputs": [],
   "source": [
    "# advanced modulo division  \n",
    "#no use in a calculator but just for fun \n",
    "exp=input().lower()\n",
    "expl=exp.split('%r')\n",
    "i,mdiv=1,float(expl[0])\n",
    "e=False\n",
    "try :\n",
    "    while i <=exp.index('%r')+1 :\n",
    "        mdiv%=float(expl[i])\n",
    "        i+=1\n",
    "except IndexError :\n",
    "    print(mdiv)\n",
    "    e=True\n",
    "if not e:\n",
    "    print(mdiv)    "
   ]
  },
  {
   "cell_type": "code",
   "execution_count": null,
   "id": "aee148cf-c7bb-47b1-8a65-8f7a2ee4db29",
   "metadata": {},
   "outputs": [],
   "source": [
    "#special features -1\n",
    "#log\n",
    "import math\n",
    "exp=input()\n",
    "expl=exp.split('log')\n",
    "expl2=exp.split('ln')\n",
    "# expl+=expl2\n",
    "print(expl)\n",
    "i=1\n",
    "val=math.log10(float(expl[1]))\n",
    "print(val)"
   ]
  },
  {
   "cell_type": "code",
   "execution_count": null,
   "id": "2cd0b354-2244-4f95-b0e4-bbc4ad6e3bb2",
   "metadata": {},
   "outputs": [],
   "source": [
    "k=input()\n",
    "kq=k.split('+')\n",
    "kq"
   ]
  },
  {
   "cell_type": "code",
   "execution_count": null,
   "id": "171baae5-2a4d-42ef-8fb1-d4e268d2e781",
   "metadata": {},
   "outputs": [],
   "source": [
    "eval('45+94-23')\n"
   ]
  },
  {
   "cell_type": "code",
   "execution_count": null,
   "id": "0fc68057-2e27-4fd2-9aad-f26ea7142830",
   "metadata": {},
   "outputs": [],
   "source": [
    "k='ojkr'\n",
    "i=k.find('o')\n",
    "print(k[i-1])\n"
   ]
  },
  {
   "cell_type": "code",
   "execution_count": 19,
   "id": "340af2f0-6da4-4b7a-ae0e-e80037d8e5a3",
   "metadata": {},
   "outputs": [
    {
     "data": {
      "text/plain": [
       "2.6881171418161356e+43"
      ]
     },
     "execution_count": 19,
     "metadata": {},
     "output_type": "execute_result"
    }
   ],
   "source": [
    "m.exp(1e2)"
   ]
  },
  {
   "cell_type": "code",
   "execution_count": 34,
   "id": "07ea0a88-f974-407e-b542-398150b249db",
   "metadata": {},
   "outputs": [
    {
     "ename": "ValueError",
     "evalue": "math domain error",
     "output_type": "error",
     "traceback": [
      "\u001b[1;31m---------------------------------------------------------------------------\u001b[0m",
      "\u001b[1;31mValueError\u001b[0m                                Traceback (most recent call last)",
      "Cell \u001b[1;32mIn[34], line 1\u001b[0m\n\u001b[1;32m----> 1\u001b[0m m\u001b[38;5;241m.\u001b[39mlog(\u001b[38;5;241m-\u001b[39m\u001b[38;5;241m2\u001b[39m)\n",
      "\u001b[1;31mValueError\u001b[0m: math domain error"
     ]
    }
   ],
   "source": [
    "m.log(-2)"
   ]
  },
  {
   "cell_type": "code",
   "execution_count": 120,
   "id": "69ea807e-ce45-4fce-896c-cafaa2fcde3d",
   "metadata": {},
   "outputs": [
    {
     "data": {
      "text/plain": [
       "0.0"
      ]
     },
     "execution_count": 120,
     "metadata": {},
     "output_type": "execute_result"
    }
   ],
   "source": [
    "m.log10(1)"
   ]
  },
  {
   "cell_type": "code",
   "execution_count": 59,
   "id": "b4e8ca05-1052-4a6d-ac69-d39802c3910f",
   "metadata": {},
   "outputs": [
    {
     "data": {
      "text/plain": [
       "22026.465794806718"
      ]
     },
     "execution_count": 59,
     "metadata": {},
     "output_type": "execute_result"
    }
   ],
   "source": [
    "m.exp(1e1)"
   ]
  },
  {
   "cell_type": "code",
   "execution_count": 161,
   "id": "c41ae8ec-f985-4fe4-9116-c23c36a3dba3",
   "metadata": {},
   "outputs": [
    {
     "name": "stdout",
     "output_type": "stream",
     "text": [
      "22026.465794806718\n"
     ]
    },
    {
     "data": {
      "text/plain": [
       "162754.79141900392"
      ]
     },
     "execution_count": 161,
     "metadata": {},
     "output_type": "execute_result"
    }
   ],
   "source": [
    "k='1e1'\n",
    "print( m.exp(int(float(k))))\n",
    "m.exp(12)"
   ]
  },
  {
   "cell_type": "code",
   "execution_count": 100,
   "id": "49b7ea19-89ad-4f1b-ae75-c5c5d80de445",
   "metadata": {},
   "outputs": [
    {
     "data": {
      "text/plain": [
       "1.0"
      ]
     },
     "execution_count": 100,
     "metadata": {},
     "output_type": "execute_result"
    }
   ],
   "source": [
    "m.cos(0)"
   ]
  },
  {
   "cell_type": "code",
   "execution_count": 65,
   "id": "9b8b3d04-954a-4bfb-a94e-c1fb9b2501fd",
   "metadata": {},
   "outputs": [
    {
     "data": {
      "text/plain": [
       "0"
      ]
     },
     "execution_count": 65,
     "metadata": {},
     "output_type": "execute_result"
    }
   ],
   "source": [
    "o='(sde('\n",
    "o.find('(')"
   ]
  },
  {
   "cell_type": "code",
   "execution_count": 114,
   "id": "4bb33e61-4a67-47c2-9e62-b2f2c9add7c9",
   "metadata": {},
   "outputs": [
    {
     "name": "stdout",
     "output_type": "stream",
     "text": [
      "0\n",
      "1\n",
      "2\n",
      "3\n",
      "4\n",
      "5\n",
      "6\n",
      "7\n",
      "8\n",
      "9\n",
      "10\n",
      "11\n",
      "12\n",
      "93) sin(93))\n"
     ]
    }
   ],
   "source": [
    "j='o+sin(93)+tre()'\n",
    "k=\"\"\n",
    "s=\"sin(\"\n",
    "l=j[j.find('sin'):]\n",
    "for i in range(len(l)):\n",
    "    o=i\n",
    "    if l[i] =='(':\n",
    "        while l[o]!=')':\n",
    "            o+=1\n",
    "            s+=l[o]\n",
    "            k=k+l[o]\n",
    "    print(i)\n",
    "k=k[:len(k)-1]\n",
    "print(k,s)"
   ]
  },
  {
   "cell_type": "code",
   "execution_count": 145,
   "id": "a552aa25-7bd2-43f8-b8e5-7c997dbd4e86",
   "metadata": {},
   "outputs": [
    {
     "name": "stdout",
     "output_type": "stream",
     "text": [
      "ln_pos=exp.find('ln')\n",
      "        dummy_exp=exp\n",
      "        dummy_exp=dummy_exp[ln_pos:]\n",
      "        value,ln,stop=\"\",\"ln(\",1\n",
      "        for i in range(len(dummy_exp)):\n",
      "            s=i\n",
      "            if dummy_exp[i]=='(':\n",
      "                while dummy_exp[s]!=')':\n",
      "                    s+=1\n",
      "                    ln+=dummy_exp[s]\n",
      "                    value+=dummy_exp[s]\n",
      "                else :\n",
      "                    stop=0\n",
      "            if stop==0:\n",
      "                break\n",
      "        l=value[:len(value)-1]\n",
      "        try:\n",
      "            ln_value=m.ln10(int(l))\n",
      "            exp=exp.replace(ln , str(ln_value))  \n",
      "        except :\n",
      "            print(\"0 and negatives have no ln \")\n",
      "        del dummy_exp,ln_value,ln_pos,l ,value ,stop\n"
     ]
    }
   ],
   "source": [
    "k=\"\"\"log_pos=exp.find('log')\n",
    "        dummy_exp=exp\n",
    "        dummy_exp=dummy_exp[log_pos:]\n",
    "        value,log,stop=\"\",\"log(\",1\n",
    "        for i in range(len(dummy_exp)):\n",
    "            s=i\n",
    "            if dummy_exp[i]=='(':\n",
    "                while dummy_exp[s]!=')':\n",
    "                    s+=1\n",
    "                    log+=dummy_exp[s]\n",
    "                    value+=dummy_exp[s]\n",
    "                else :\n",
    "                    stop=0\n",
    "            if stop==0:\n",
    "                break\n",
    "        l=value[:len(value)-1]\n",
    "        try:\n",
    "            log_value=m.log10(int(l))\n",
    "            exp=exp.replace(log , str(log_value))  \n",
    "        except :\n",
    "            print(\"0 and negatives have no log \")\n",
    "        del dummy_exp,log_value,log_pos,l ,value ,stop\"\"\"\n",
    "print(k.replace('log','ln'))"
   ]
  },
  {
   "cell_type": "code",
   "execution_count": null,
   "id": "0b121033-b708-4531-a281-4bf51f3e86be",
   "metadata": {},
   "outputs": [],
   "source": []
  }
 ],
 "metadata": {
  "kernelspec": {
   "display_name": "Python 3 (ipykernel)",
   "language": "python",
   "name": "python3"
  },
  "language_info": {
   "codemirror_mode": {
    "name": "ipython",
    "version": 3
   },
   "file_extension": ".py",
   "mimetype": "text/x-python",
   "name": "python",
   "nbconvert_exporter": "python",
   "pygments_lexer": "ipython3",
   "version": "3.11.9"
  }
 },
 "nbformat": 4,
 "nbformat_minor": 5
}
